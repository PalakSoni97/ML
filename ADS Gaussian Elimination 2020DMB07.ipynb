{
 "cells": [
  {
   "cell_type": "code",
   "execution_count": 1,
   "metadata": {
    "id": "RHH-hG8viaQm"
   },
   "outputs": [],
   "source": [
    "import numpy as np\n",
    "import time\n",
    "import pandas as pd\n",
    "from sklearn.linear_model import LinearRegression"
   ]
  },
  {
   "cell_type": "markdown",
   "metadata": {},
   "source": [
    "Palak Soni\n",
    "\n",
    "2020DMB07\n",
    "\n",
    "Algorithims and Data Structures \n",
    "\n",
    "## Motivation from : codesansar for gaussian ellimination concept and pseudo code and geeks for geeks concept clarity and code algorithms\n",
    "\n",
    "https://www.pythonpool.com/gaussian-elimination-python/\n"
   ]
  },
  {
   "cell_type": "code",
   "execution_count": 2,
   "metadata": {
    "id": "ptbEAUMjiygo"
   },
   "outputs": [],
   "source": [
    "def gaussian_elimination(A, b):\n",
    "  ''' This function performs Gaussian elimination.\n",
    "      Input is an nxn numpy array A and a vector b of length n.'''\n",
    "  n = np.shape(A)[0] # number of rows = number of columns = n\n",
    "  count = 0\n",
    "\n",
    "  for k in range(0, n-1): # 0, 1, 2, ... n-2 eqv 1, 2, 3, ..., n-1\n",
    "    for i in range(k+1, n): # k+1, k+2, ..., n-1 \n",
    "      m_ik = A[i,k]/A[k,k] \n",
    "      b[i] = b[i] - m_ik*b[k]\n",
    "\n",
    "      # count no. of mult. and div. in each step\n",
    "      count += 2\n",
    "      for j in range(k+1, n):\n",
    "        A[i,j] = A[i,j] - m_ik * A[k,j]\n",
    "        count += 1\n",
    "\n",
    "  return(A, b, count) \n",
    "     \n"
   ]
  },
  {
   "cell_type": "code",
   "execution_count": 3,
   "metadata": {
    "id": "x4rSPtjwiyoU"
   },
   "outputs": [],
   "source": [
    "def ge_n(n):\n",
    "  ''' This function takes as input integer n and returns a random matrix of integers os size nxn.\n",
    "       This matrix is then input into the gaussian elimitaion function defined above'''\n",
    "      \n",
    "  B = np.random.randint(1,100, size=(n, n))\n",
    "  b = np.random.randint(1,100, size =(n, 1))\n",
    "  return(gaussian_elimination(B, b))\n",
    "  "
   ]
  },
  {
   "cell_type": "code",
   "execution_count": null,
   "metadata": {
    "id": "5I_u45n2jRYX"
   },
   "outputs": [],
   "source": [
    "# using the below code for time in python, actual time taken for various n is computed\n",
    "start = time.time()\n",
    "a = ge_n(100)\n",
    "end = time.time()\n",
    "print(a, end - start)"
   ]
  },
  {
   "cell_type": "code",
   "execution_count": 6,
   "metadata": {
    "id": "0kAWegbmjlKz"
   },
   "outputs": [],
   "source": [
    "# for different n the count and time are computed\n",
    "df = pd.read_excel('/content/time_python.xlsx')"
   ]
  },
  {
   "cell_type": "code",
   "execution_count": 7,
   "metadata": {
    "colab": {
     "base_uri": "https://localhost:8080/",
     "height": 206
    },
    "id": "8g0PaQvqjxRi",
    "outputId": "aba7c223-baec-400d-a893-8a0f5502068d"
   },
   "outputs": [
    {
     "data": {
      "text/html": [
       "<div>\n",
       "<style scoped>\n",
       "    .dataframe tbody tr th:only-of-type {\n",
       "        vertical-align: middle;\n",
       "    }\n",
       "\n",
       "    .dataframe tbody tr th {\n",
       "        vertical-align: top;\n",
       "    }\n",
       "\n",
       "    .dataframe thead th {\n",
       "        text-align: right;\n",
       "    }\n",
       "</style>\n",
       "<table border=\"1\" class=\"dataframe\">\n",
       "  <thead>\n",
       "    <tr style=\"text-align: right;\">\n",
       "      <th></th>\n",
       "      <th>n</th>\n",
       "      <th>time</th>\n",
       "      <th>count</th>\n",
       "    </tr>\n",
       "  </thead>\n",
       "  <tbody>\n",
       "    <tr>\n",
       "      <th>0</th>\n",
       "      <td>100</td>\n",
       "      <td>1.22</td>\n",
       "      <td>338250</td>\n",
       "    </tr>\n",
       "    <tr>\n",
       "      <th>1</th>\n",
       "      <td>200</td>\n",
       "      <td>9.39</td>\n",
       "      <td>2686500</td>\n",
       "    </tr>\n",
       "    <tr>\n",
       "      <th>2</th>\n",
       "      <td>300</td>\n",
       "      <td>30.50</td>\n",
       "      <td>9044750</td>\n",
       "    </tr>\n",
       "    <tr>\n",
       "      <th>3</th>\n",
       "      <td>400</td>\n",
       "      <td>71.32</td>\n",
       "      <td>21413000</td>\n",
       "    </tr>\n",
       "    <tr>\n",
       "      <th>4</th>\n",
       "      <td>500</td>\n",
       "      <td>138.64</td>\n",
       "      <td>41791250</td>\n",
       "    </tr>\n",
       "  </tbody>\n",
       "</table>\n",
       "</div>"
      ],
      "text/plain": [
       "     n    time     count\n",
       "0  100    1.22    338250\n",
       "1  200    9.39   2686500\n",
       "2  300   30.50   9044750\n",
       "3  400   71.32  21413000\n",
       "4  500  138.64  41791250"
      ]
     },
     "execution_count": 7,
     "metadata": {},
     "output_type": "execute_result"
    }
   ],
   "source": [
    "df"
   ]
  },
  {
   "cell_type": "code",
   "execution_count": 11,
   "metadata": {
    "id": "FLGUKaUHkRi_"
   },
   "outputs": [],
   "source": [
    "import seaborn as sns"
   ]
  },
  {
   "cell_type": "code",
   "execution_count": 13,
   "metadata": {
    "id": "dSRu6V5VjyD9"
   },
   "outputs": [],
   "source": [
    "df['log_count'] = np.log(df['count'])"
   ]
  },
  {
   "cell_type": "code",
   "execution_count": 14,
   "metadata": {
    "id": "jezHwcC_kcf9"
   },
   "outputs": [],
   "source": [
    "df['n squared'] = np.square(df['n'])"
   ]
  },
  {
   "cell_type": "code",
   "execution_count": 16,
   "metadata": {
    "id": "BZZHTE8MlbB5"
   },
   "outputs": [],
   "source": [
    "df['n cubed'] = np.power(df['n'], 3)"
   ]
  },
  {
   "cell_type": "code",
   "execution_count": 40,
   "metadata": {
    "id": "4od02Pamlb8i"
   },
   "outputs": [],
   "source": [
    "df['log n'] = np.log(df['n'])"
   ]
  },
  {
   "cell_type": "code",
   "execution_count": 24,
   "metadata": {
    "colab": {
     "base_uri": "https://localhost:8080/",
     "height": 206
    },
    "id": "z_QxQVItlwIk",
    "outputId": "85347ce0-e26c-4db6-89ca-9e2497e239db"
   },
   "outputs": [
    {
     "data": {
      "text/html": [
       "<div>\n",
       "<style scoped>\n",
       "    .dataframe tbody tr th:only-of-type {\n",
       "        vertical-align: middle;\n",
       "    }\n",
       "\n",
       "    .dataframe tbody tr th {\n",
       "        vertical-align: top;\n",
       "    }\n",
       "\n",
       "    .dataframe thead th {\n",
       "        text-align: right;\n",
       "    }\n",
       "</style>\n",
       "<table border=\"1\" class=\"dataframe\">\n",
       "  <thead>\n",
       "    <tr style=\"text-align: right;\">\n",
       "      <th></th>\n",
       "      <th>n</th>\n",
       "      <th>n squared</th>\n",
       "      <th>n cubed</th>\n",
       "      <th>count</th>\n",
       "    </tr>\n",
       "  </thead>\n",
       "  <tbody>\n",
       "    <tr>\n",
       "      <th>0</th>\n",
       "      <td>100</td>\n",
       "      <td>10000</td>\n",
       "      <td>1000000</td>\n",
       "      <td>338250</td>\n",
       "    </tr>\n",
       "    <tr>\n",
       "      <th>1</th>\n",
       "      <td>200</td>\n",
       "      <td>40000</td>\n",
       "      <td>8000000</td>\n",
       "      <td>2686500</td>\n",
       "    </tr>\n",
       "    <tr>\n",
       "      <th>2</th>\n",
       "      <td>300</td>\n",
       "      <td>90000</td>\n",
       "      <td>27000000</td>\n",
       "      <td>9044750</td>\n",
       "    </tr>\n",
       "    <tr>\n",
       "      <th>3</th>\n",
       "      <td>400</td>\n",
       "      <td>160000</td>\n",
       "      <td>64000000</td>\n",
       "      <td>21413000</td>\n",
       "    </tr>\n",
       "    <tr>\n",
       "      <th>4</th>\n",
       "      <td>500</td>\n",
       "      <td>250000</td>\n",
       "      <td>125000000</td>\n",
       "      <td>41791250</td>\n",
       "    </tr>\n",
       "  </tbody>\n",
       "</table>\n",
       "</div>"
      ],
      "text/plain": [
       "     n  n squared    n cubed     count\n",
       "0  100      10000    1000000    338250\n",
       "1  200      40000    8000000   2686500\n",
       "2  300      90000   27000000   9044750\n",
       "3  400     160000   64000000  21413000\n",
       "4  500     250000  125000000  41791250"
      ]
     },
     "execution_count": 24,
     "metadata": {},
     "output_type": "execute_result"
    }
   ],
   "source": [
    "data # count is between n square and n cube"
   ]
  },
  {
   "cell_type": "code",
   "execution_count": 26,
   "metadata": {
    "colab": {
     "base_uri": "https://localhost:8080/",
     "height": 307
    },
    "id": "6-Kedo5hlyRA",
    "outputId": "0667c7cf-fe1f-48a5-d005-664675c7ed05"
   },
   "outputs": [
    {
     "data": {
      "text/plain": [
       "<matplotlib.axes._subplots.AxesSubplot at 0x7fe4f2a176d0>"
      ]
     },
     "execution_count": 26,
     "metadata": {},
     "output_type": "execute_result"
    },
    {
     "data": {
      "image/png": "[encoded data removed]",
      "text/plain": [
       "<Figure size 432x288 with 1 Axes>"
      ]
     },
     "metadata": {
      "needs_background": "light"
     },
     "output_type": "display_data"
    }
   ],
   "source": [
    "data.plot(x=\"n\", y=[\"n squared\", \"n cubed\", \"count\"], kind=\"line\")"
   ]
  },
  {
   "cell_type": "code",
   "execution_count": 41,
   "metadata": {
    "id": "OnDWCn8xnGFf"
   },
   "outputs": [],
   "source": [
    "X = np.array(df['log n']).reshape(-1, 1)"
   ]
  },
  {
   "cell_type": "code",
   "execution_count": 42,
   "metadata": {
    "id": "Tg_MuEIinjJ8"
   },
   "outputs": [],
   "source": [
    "y = df['log_count']"
   ]
  },
  {
   "cell_type": "code",
   "execution_count": 43,
   "metadata": {
    "id": "ZlguutlDnpPn"
   },
   "outputs": [],
   "source": [
    "reg = LinearRegression().fit(X, y)"
   ]
  },
  {
   "cell_type": "code",
   "execution_count": 44,
   "metadata": {
    "colab": {
     "base_uri": "https://localhost:8080/"
    },
    "id": "CmQUfhC6ntu9",
    "outputId": "9aacd73b-39b9-4574-b711-a9fb25db40b5"
   },
   "outputs": [
    {
     "data": {
      "text/plain": [
       "array([2.99273645])"
      ]
     },
     "execution_count": 44,
     "metadata": {},
     "output_type": "execute_result"
    }
   ],
   "source": [
    "reg.coef_ # ans is close to 3"
   ]
  }
 ],
 "metadata": {
  "colab": {
   "name": "Gaussian Elimiation.ipynb",
   "provenance": []
  },
  "kernelspec": {
   "display_name": "Python 3",
   "language": "python",
   "name": "python3"
  },
  "language_info": {
   "codemirror_mode": {
    "name": "ipython",
    "version": 3
   },
   "file_extension": ".py",
   "mimetype": "text/x-python",
   "name": "python",
   "nbconvert_exporter": "python",
   "pygments_lexer": "ipython3",
   "version": "3.8.8"
  }
 },
 "nbformat": 4,
 "nbformat_minor": 1
}
