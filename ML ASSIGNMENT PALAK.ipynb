{
 "cells": [
  {
   "cell_type": "markdown",
   "metadata": {},
   "source": [
    "# Reduced Row Echelon Form of a Matrix (RREF)\n",
    "Definition: Let A be an m×n matrix. Then A is said to be in Reduced Row Echelon Form if A satisfies the following four properties.\n",
    "1. All of the rows that do not consist entirely of zeroes will have their first nonzero entries be 1 which we defined as leading 1s.\n",
    "2. For any two rows that are not entirely comprised of zeroes, the leading 1 in the row below occurs farther to the right than the leading 1 in the higher rows.\n",
    "3. Any rows consisting entirely of zeroes are placed at the bottom of the matrix.\n",
    "4. Every column that contains a leading 1 must have zeros everywhere else in that column."
   ]
  },
  {
   "cell_type": "code",
   "execution_count": 191,
   "metadata": {},
   "outputs": [],
   "source": [
    "#to find the RREF of a given matrix of any order\n",
    "#first define the function \n",
    "\n",
    "def ToReducedRowEchelonForm(R):\n",
    "    if not R: return ()\n",
    "     #if not in RREF for matrix is returned and now working is done for conversion\n",
    " #STEP 1 : to start with a lead and work over one row and one column at a time, element wise element\n",
    "    main = 0 #indentation is defined for working \n",
    "    rowCount = len(R) #to iterate the rows starting over with row count\n",
    "    columnCount = len(R[0]) \n",
    "    #to iterate the column count assigning the row number for example starting with first row with indentation = zero\n",
    "    for r in range(rowCount): #creating a FOR loop to iterate row count \n",
    "        if main >= columnCount: \n",
    "            return \n",
    "        #creating a if statement to stop the code to work when all the columns are converted amd matrix is returned in RREF FORM \n",
    "#STEP 2  : to check if the very first elelemt is zero then row needs to be swapped for conversion and then work on the elelemnt acheived\n",
    "    #as it voiltaes the rule no. 1 of RREF as stated above \n",
    "        i = r #starting taking one element at a time in a row, i is element indentation\n",
    "        while R[i][main] == 0:  #identifies if a swap is required when the the working row or column element is 0 #Example - if i=0,r=0,R[i][main]=1 \n",
    "            i += 1 #row swapped to make a non zero element of that working row\n",
    "            if i == rowCount:\n",
    "                i = r\n",
    "                main += 1\n",
    "                if columnCount == main:\n",
    "                    return \n",
    "#STEP 3 : Define the constant integer function used for making diagnols 1              \n",
    "        R[i],R[r] = R[r],R[i] \n",
    "        p = R[r][main] #it is the constant 1 that RREF contains to work for Elimentary row operations\n",
    "#STEP 4 : Using Elimentary Row Operations,to make all the diagnols of the matrix equal to one       \n",
    "        #for mrx in R[r] :\n",
    "          #R[r] = [ mrx/ int(p) ] #converting the main element to 1\n",
    "        R[r] = [ mrx / int(p) for mrx in R[r]]  #converting the lead element to 1  \n",
    "#STEP 5 : Using Elimentary Row Operations, subtracting the row value below of the elelment to make the desired elemen equal to 0       \n",
    "        for i in range(rowCount):\n",
    "            if i != r: #assigning a loop if row number is not same for row element to make it 0  \n",
    "        #Zip creates an iterator that will aggregate from two or more iterables\n",
    "                p = R[i][main] \n",
    "            #for rv,iv in zip(R[r],R[i])\n",
    "                R[i] = [ iv - p*rv for rv,iv in zip(R[r],R[i])] \n",
    "        main += 1 \n",
    "        #it will make the code work again by taking next row count as lead to work on the following row and repeat the above code\n",
    "        "
   ]
  },
  {
   "cell_type": "code",
   "execution_count": 192,
   "metadata": {},
   "outputs": [],
   "source": [
    "matrix = [\n",
    "   [ 1, 2, -1, -4],\n",
    "   [ 2, 3, -1, -11],\n",
    "   [-2, 0, -3, 22],]\n",
    "\n",
    " \n",
    "ToReducedRowEchelonForm (matrix )"
   ]
  },
  {
   "cell_type": "code",
   "execution_count": 193,
   "metadata": {},
   "outputs": [
    {
     "name": "stdout",
     "output_type": "stream",
     "text": [
      "1 0 0 -8 \n",
      "0 1 0 1 \n",
      "0 0 1 -2 \n"
     ]
    }
   ],
   "source": [
    "for i in range(3): \n",
    "    for j in range(4):  \n",
    "         print(int(matrix[i][j]), end = \" \") \n",
    "    print()"
   ]
  },
  {
   "cell_type": "code",
   "execution_count": 194,
   "metadata": {},
   "outputs": [],
   "source": [
    "mtx= [\n",
    " [2, 0, 0, 0],\n",
    " [3, 1, 3, 2],\n",
    " [3, 2, 1, 2],\n",
    " [3, 1, 3, 2],]\n",
    "\n",
    "\n",
    "ToReducedRowEchelonForm ( mtx )"
   ]
  },
  {
   "cell_type": "code",
   "execution_count": 195,
   "metadata": {},
   "outputs": [
    {
     "name": "stdout",
     "output_type": "stream",
     "text": [
      "1 0 0 0 \n",
      "0 1 0 0 \n",
      "0 0 1 0 \n",
      "0 0 0 0 \n"
     ]
    }
   ],
   "source": [
    "for i in range(4): \n",
    "    for j in range(4):  \n",
    "         print(int(mtx[i][j]), end = \" \") \n",
    "    print()"
   ]
  },
  {
   "cell_type": "markdown",
   "metadata": {},
   "source": [
    "REGRESSION MODEL"
   ]
  },
  {
   "cell_type": "markdown",
   "metadata": {},
   "source": [
    "Regression analysis is used to estimate the relationship between a dependent variable and one or more independent variables. This technique is widely applied to predict the outputs, forecasting the data, analyzing the time series, and finding the causal effect dependencies between the variables."
   ]
  },
  {
   "cell_type": "markdown",
   "metadata": {},
   "source": [
    "MODEL : Agricultural scientists often use linear regression to measure the effect of fertilizer, on crop yields.\n",
    "\n",
    "For example, scientists might use different amounts of fertilizers on different fields and see how it affects crop yield. They might fit a linear regression model using fertilizer as the predictor variables and crop yield as the response variable. The regression model would take the following form: \n",
    "\n",
    "Crop yield(Y) = β0 + β1(amount of fertilizer x) + E(error)\n",
    "\n",
    "The coefficient β0 would represent the expected crop yield with no fertilizer.\n",
    "\n",
    "The coefficient β1 would represent the average change in crop yield when fertilizer is increased by one unit.\n",
    "\n",
    "Depending on the values of β1, the scientists may change the amount of fertilizer to maximize the crop yield."
   ]
  },
  {
   "cell_type": "markdown",
   "metadata": {},
   "source": [
    "Y - This is the variable we predict \n",
    "\n",
    "X - This is the variable we use to make a prediction\n",
    "\n",
    "βo - This is the intercept term. It is the prediction value you get when Xs = 0\n",
    "\n",
    "β1 - This is the slope term. It explains the change in Y when X changes by 1 unit and so on.\n",
    "\n",
    "E - This represents the residual value, i.e. the difference between actual and predicted values."
   ]
  },
  {
   "cell_type": "markdown",
   "metadata": {},
   "source": [
    "Let us take example of four different types of crop yields, in crop type 1(wheet) we used 1 units of fertilizer content,in crop type 2(jawar) we used 2 units of fertilizers content,in crop type 3(millets) we used 5 units of fertilizers content,and in crop type 4(rice) we used 8 units of fertilizers content."
   ]
  },
  {
   "cell_type": "code",
   "execution_count": 196,
   "metadata": {},
   "outputs": [
    {
     "data": {
      "image/png": "[encoded data removed]",
      "text/plain": [
       "<Figure size 432x288 with 1 Axes>"
      ]
     },
     "metadata": {
      "needs_background": "light"
     },
     "output_type": "display_data"
    }
   ],
   "source": [
    "import numpy as np\n",
    "import matplotlib.pyplot as plt\n",
    "#using the data points plot the points using the packages\n",
    "x = (1, 2, 3, 4)\n",
    "y = (1, 2, 5, 8)\n",
    "plt.scatter(x,y)\n",
    "plt.xlabel('type of crop')\n",
    "plt.ylabel('fertilizer content')\n",
    "plt.show()\n",
    "\n",
    "#these are the given actual values "
   ]
  },
  {
   "cell_type": "markdown",
   "metadata": {},
   "source": [
    "We note that the vector of $y$ values is called the **data vector** and the all the $x$ values collectively are known as the **data matrix**. They can be written in the following manner:\n",
    "\n",
    "$$\\vec{y} = \\begin{bmatrix} y_1 \\\\ \\vdots \\\\ y_n \\end{bmatrix}, \\ \\vec{\\epsilon} = \\begin{bmatrix} \\epsilon_1 \\\\ \\vdots \\\\ \\epsilon_n \\end{bmatrix}, \\ X = \\begin{bmatrix} \\vec{X'}_1 \\\\ \\vdots \\\\ \\vec{X'}_n \\end{bmatrix} = \\begin{bmatrix} x_{11} & \\cdots & x_{1K} \\\\ \\vdots & \\cdots & \\vdots \\\\ x_{n1} & \\cdots & x_{nK} \\end{bmatrix}$$\n",
    "\n",
    "We solve the normal equations\n",
    "$$ A^TA\\hat x = A^Tb $$\n",
    "\n",
    "We get an agumented matrix and by using row transformation we get the final answers by the regression equation."
   ]
  },
  {
   "cell_type": "markdown",
   "metadata": {},
   "source": [
    "# FINDING VALUE USING RREF METHOD"
   ]
  },
  {
   "cell_type": "code",
   "execution_count": 210,
   "metadata": {},
   "outputs": [
    {
     "name": "stdout",
     "output_type": "stream",
     "text": [
      "[4, 10]\n",
      "[10, 30]\n"
     ]
    }
   ],
   "source": [
    "#TO FINE A^TA USING MATRIX MULTIPLICATION\n",
    "X = [[1,1,1,1],\n",
    "    [1,2,3,4]]\n",
    "A = [[1,1],\n",
    "    [1,2],\n",
    "    [1,3],\n",
    "    [1,4]]\n",
    "result = [[0,0],\n",
    "          [0,0]]\n",
    "for i in range(len(X)):\n",
    "   # iterate through columns of X^T\n",
    "   for j in range(len(A[0])):\n",
    "       # iterate through rows of X^T\n",
    "       for k in range(len(A)):\n",
    "        result[i][j] += X[i][k] * A[k][j]\n",
    "\n",
    "for r in result:\n",
    "    print(r)"
   ]
  },
  {
   "cell_type": "code",
   "execution_count": 211,
   "metadata": {},
   "outputs": [
    {
     "name": "stdout",
     "output_type": "stream",
     "text": [
      "[16]\n",
      "[52]\n"
     ]
    }
   ],
   "source": [
    "#TO FINE A^TB USING MATRIX MULTIPLICATION\n",
    "X = [[1,1,1,1],\n",
    "    [1,2,3,4]]\n",
    "B = [[1],\n",
    "    [2],\n",
    "    [5], \n",
    "    [8]]\n",
    "mult = [[0],\n",
    "        [0]]\n",
    "for i in range(len(X)):\n",
    "   # iterate through columns of X^T\n",
    "   for j in range(len(B[0])):\n",
    "       # iterate through rows of X^T\n",
    "       for k in range(len(A)):\n",
    "        mult[i][j] += X[i][k] * B[k][j]\n",
    "\n",
    "for r in mult:\n",
    "    print(r)"
   ]
  },
  {
   "cell_type": "code",
   "execution_count": 212,
   "metadata": {},
   "outputs": [],
   "source": [
    "#SOLVING THE AUSMENTED MATRIX USING RREF \n",
    "C = [\n",
    "    [4, 10, 16],\n",
    "    [10, 30, 52]]\n",
    "\n",
    "ToReducedRowEchelonForm ( C )"
   ]
  },
  {
   "cell_type": "code",
   "execution_count": 213,
   "metadata": {},
   "outputs": [
    {
     "name": "stdout",
     "output_type": "stream",
     "text": [
      "1.0 0.0 -2.0 \n",
      "0.0 1.0 2.4 \n"
     ]
    }
   ],
   "source": [
    "for i in range(2): \n",
    "    for j in range(3):  \n",
    "         print((C[i][j]), end = \" \") \n",
    "    print()"
   ]
  },
  {
   "cell_type": "markdown",
   "metadata": {},
   "source": [
    "WE GOT THE SOLUTION AS -2.0 AND 2.4"
   ]
  },
  {
   "cell_type": "code",
   "execution_count": 214,
   "metadata": {},
   "outputs": [
    {
     "data": {
      "image/png": "[encoded data removed]",
      "text/plain": [
       "<Figure size 432x288 with 1 Axes>"
      ]
     },
     "metadata": {
      "needs_background": "light"
     },
     "output_type": "display_data"
    }
   ],
   "source": [
    "# plot the best fit line\n",
    "X = np.array(x)\n",
    "Y_hat = (-2.0)+(2.4)*X\n",
    "plt.plot(X, Y_hat)\n",
    "plt.scatter(x,y)\n",
    "plt.xlabel('amount spent on ads')\n",
    "plt.ylabel('sales revenue')\n",
    "plt.show()"
   ]
  },
  {
   "cell_type": "markdown",
   "metadata": {},
   "source": [
    "# WHEN THIS MODEL BREAKS THAT IS, IT CANT BE EXECUTED"
   ]
  },
  {
   "cell_type": "markdown",
   "metadata": {},
   "source": [
    "Crop yield apart from fertilizer content also depend upon the water content used that is by equation \n",
    "\n",
    "Crop yield(C) = β0(water used a) + β1(amount of fertilizer x) + E(error)\n",
    "\n",
    "Now, Let us take example of four different types of crop yields, in crop type 1(wheet) we used 1 units of fertilizer content and 2 units water used, in crop type 2(jawar) we used 2 units of fertilizers content and 6 units of water used, in crop type 3(millets) we used 5 units of fertilizers content and 7 units of water used ,and in crop type 4(rice) we used 8 units of fertilizers content and 9 units of water used."
   ]
  },
  {
   "cell_type": "code",
   "execution_count": 215,
   "metadata": {},
   "outputs": [
    {
     "name": "stdout",
     "output_type": "stream",
     "text": [
      "[[1 2]\n",
      " [2 2]\n",
      " [3 5]\n",
      " [4 8]]\n"
     ]
    }
   ],
   "source": [
    "#will be using same steps as above to solve the normal equation multiplying by transpose and then using RREF to solve \n",
    "L = np.array([[1,2],[2,2],[3,5],[4,8]])\n",
    "print(L)"
   ]
  },
  {
   "cell_type": "code",
   "execution_count": 216,
   "metadata": {},
   "outputs": [
    {
     "name": "stdout",
     "output_type": "stream",
     "text": [
      "[[1 2 3 4]\n",
      " [2 2 5 8]]\n"
     ]
    }
   ],
   "source": [
    "L_transpose = L.transpose()\n",
    "print(L.transpose())"
   ]
  },
  {
   "cell_type": "code",
   "execution_count": 217,
   "metadata": {},
   "outputs": [],
   "source": [
    "a = np.array([2,6,7,9])"
   ]
  },
  {
   "cell_type": "code",
   "execution_count": 218,
   "metadata": {},
   "outputs": [],
   "source": [
    "a = a.transpose()"
   ]
  },
  {
   "cell_type": "code",
   "execution_count": 219,
   "metadata": {},
   "outputs": [
    {
     "name": "stdout",
     "output_type": "stream",
     "text": [
      "[[30 53]\n",
      " [53 97]]\n"
     ]
    }
   ],
   "source": [
    "N = np.matmul(L_transpose,L)\n",
    "print(N)"
   ]
  },
  {
   "cell_type": "code",
   "execution_count": 220,
   "metadata": {},
   "outputs": [
    {
     "name": "stdout",
     "output_type": "stream",
     "text": [
      "[[ 71]\n",
      " [123]]\n"
     ]
    }
   ],
   "source": [
    "R = np.matmul(L_transpose, a).reshape(2,1)\n",
    "print(R)"
   ]
  },
  {
   "cell_type": "code",
   "execution_count": 221,
   "metadata": {},
   "outputs": [],
   "source": [
    "Augmented = [\n",
    "        [30, 53, 71],\n",
    "        [53,97,123]]\n",
    "\n",
    "ToReducedRowEchelonForm ( Augmented )"
   ]
  },
  {
   "cell_type": "code",
   "execution_count": 222,
   "metadata": {},
   "outputs": [
    {
     "name": "stdout",
     "output_type": "stream",
     "text": [
      "1.0 -0.2159259259259303 3.7996296296296315 \n",
      "0.0 1.1222222222222247 -0.8111111111111123 \n"
     ]
    }
   ],
   "source": [
    "for i in range(2): \n",
    "    for j in range(3):  \n",
    "         print((Augmented[i][j]), end = \" \") \n",
    "    print()\n",
    "    #doubt that while using int function it is not inconsistent matrix why so?"
   ]
  },
  {
   "cell_type": "markdown",
   "metadata": {},
   "source": [
    "As no exact value we obtained so the method broke down. That is when there is no fix value it breaks down."
   ]
  },
  {
   "cell_type": "code",
   "execution_count": null,
   "metadata": {},
   "outputs": [],
   "source": []
  }
 ],
 "metadata": {
  "kernelspec": {
   "display_name": "Python 3",
   "language": "python",
   "name": "python3"
  },
  "language_info": {
   "codemirror_mode": {
    "name": "ipython",
    "version": 3
   },
   "file_extension": ".py",
   "mimetype": "text/x-python",
   "name": "python",
   "nbconvert_exporter": "python",
   "pygments_lexer": "ipython3",
   "version": "3.8.3"
  }
 },
 "nbformat": 4,
 "nbformat_minor": 4
}
